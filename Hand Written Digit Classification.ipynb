{
 "cells": [
  {
   "cell_type": "markdown",
   "id": "a5aba7d4",
   "metadata": {},
   "source": [
    "#hand Written Digital Predction- classification Anaylis "
   ]
  },
  {
   "cell_type": "markdown",
   "id": "810f7f24",
   "metadata": {},
   "source": [
    "# the digits dataset consist of 8*8 pixcel images of digit .the images attribute of the dataset stores 8*8 arrays of graycycles values for each image we will usethese arrays to visuallize the first 4 images. the target attribute of the dataset stores the digit each  image represent."
   ]
  },
  {
   "cell_type": "markdown",
   "id": "3a11fb7b",
   "metadata": {},
   "source": [
    "# import Library"
   ]
  },
  {
   "cell_type": "code",
   "execution_count": 6,
   "id": "feb01276",
   "metadata": {},
   "outputs": [],
   "source": [
    "import  pandas as pd\n",
    "import numpy as np\n",
    "import matplotlib.pyplot as plt"
   ]
  },
  {
   "cell_type": "markdown",
   "id": "898120dc",
   "metadata": {},
   "source": [
    "# inport data"
   ]
  },
  {
   "cell_type": "code",
   "execution_count": 7,
   "id": "97d20866",
   "metadata": {},
   "outputs": [],
   "source": [
    "from sklearn.datasets import load_digits"
   ]
  },
  {
   "cell_type": "code",
   "execution_count": 8,
   "id": "d2e84700",
   "metadata": {},
   "outputs": [],
   "source": [
    "df =load_digits()"
   ]
  },
  {
   "cell_type": "code",
   "execution_count": 10,
   "id": "ae76356a",
   "metadata": {},
   "outputs": [
    {
     "data": {
      "image/png": "[encoded data removed]",
      "text/plain": [
       "<Figure size 720x216 with 4 Axes>"
      ]
     },
     "metadata": {
      "needs_background": "light"
     },
     "output_type": "display_data"
    }
   ],
   "source": [
    "_, axes =plt.subplots(nrows=1, ncols=4,figsize=(10,3))\n",
    "for ax,image,label in zip(axes,df.images,df.target):\n",
    "    ax.set_axis_off()\n",
    "    ax.imshow(image,cmap=plt.cm.gray_r,interpolation=\"nearest\")\n",
    "    ax.set_title(\"Training: %i\" % label)"
   ]
  },
  {
   "cell_type": "markdown",
   "id": "c88bdaea",
   "metadata": {},
   "source": [
    "# Data PreProcessing"
   ]
  },
  {
   "cell_type": "code",
   "execution_count": null,
   "id": "b209c46d",
   "metadata": {},
   "outputs": [],
   "source": [
    "df.image.shape"
   ]
  },
  {
   "cell_type": "code",
   "execution_count": 11,
   "id": "f00b8970",
   "metadata": {},
   "outputs": [
    {
     "data": {
      "text/plain": [
       "array([[ 0.,  0.,  5., 13.,  9.,  1.,  0.,  0.],\n",
       "       [ 0.,  0., 13., 15., 10., 15.,  5.,  0.],\n",
       "       [ 0.,  3., 15.,  2.,  0., 11.,  8.,  0.],\n",
       "       [ 0.,  4., 12.,  0.,  0.,  8.,  8.,  0.],\n",
       "       [ 0.,  5.,  8.,  0.,  0.,  9.,  8.,  0.],\n",
       "       [ 0.,  4., 11.,  0.,  1., 12.,  7.,  0.],\n",
       "       [ 0.,  2., 14.,  5., 10., 12.,  0.,  0.],\n",
       "       [ 0.,  0.,  6., 13., 10.,  0.,  0.,  0.]])"
      ]
     },
     "execution_count": 11,
     "metadata": {},
     "output_type": "execute_result"
    }
   ],
   "source": [
    "df.images[0]"
   ]
  },
  {
   "cell_type": "code",
   "execution_count": 12,
   "id": "6013ab86",
   "metadata": {},
   "outputs": [
    {
     "data": {
      "text/plain": [
       "(8, 8)"
      ]
     },
     "execution_count": 12,
     "metadata": {},
     "output_type": "execute_result"
    }
   ],
   "source": [
    "df.images[0].shape"
   ]
  },
  {
   "cell_type": "code",
   "execution_count": 13,
   "id": "3ad26ed7",
   "metadata": {},
   "outputs": [
    {
     "data": {
      "text/plain": [
       "1797"
      ]
     },
     "execution_count": 13,
     "metadata": {},
     "output_type": "execute_result"
    }
   ],
   "source": [
    "len(df.images)"
   ]
  },
  {
   "cell_type": "code",
   "execution_count": 14,
   "id": "821f5f23",
   "metadata": {},
   "outputs": [],
   "source": [
    "n_samples=len(df.images)\n",
    "data =df.images.reshape(n_samples,-1)"
   ]
  },
  {
   "cell_type": "code",
   "execution_count": 15,
   "id": "89e2d040",
   "metadata": {},
   "outputs": [
    {
     "data": {
      "text/plain": [
       "array([ 0.,  0.,  5., 13.,  9.,  1.,  0.,  0.,  0.,  0., 13., 15., 10.,\n",
       "       15.,  5.,  0.,  0.,  3., 15.,  2.,  0., 11.,  8.,  0.,  0.,  4.,\n",
       "       12.,  0.,  0.,  8.,  8.,  0.,  0.,  5.,  8.,  0.,  0.,  9.,  8.,\n",
       "        0.,  0.,  4., 11.,  0.,  1., 12.,  7.,  0.,  0.,  2., 14.,  5.,\n",
       "       10., 12.,  0.,  0.,  0.,  0.,  6., 13., 10.,  0.,  0.,  0.])"
      ]
     },
     "execution_count": 15,
     "metadata": {},
     "output_type": "execute_result"
    }
   ],
   "source": [
    "data[0]"
   ]
  },
  {
   "cell_type": "code",
   "execution_count": 16,
   "id": "e59d9ae6",
   "metadata": {},
   "outputs": [
    {
     "data": {
      "text/plain": [
       "(64,)"
      ]
     },
     "execution_count": 16,
     "metadata": {},
     "output_type": "execute_result"
    }
   ],
   "source": [
    "data[0].shape"
   ]
  },
  {
   "cell_type": "code",
   "execution_count": 17,
   "id": "de2d73b9",
   "metadata": {},
   "outputs": [
    {
     "data": {
      "text/plain": [
       "(1797, 64)"
      ]
     },
     "execution_count": 17,
     "metadata": {},
     "output_type": "execute_result"
    }
   ],
   "source": [
    "data.shape"
   ]
  },
  {
   "cell_type": "markdown",
   "id": "85a7cd29",
   "metadata": {},
   "source": [
    "# Scalling images"
   ]
  },
  {
   "cell_type": "code",
   "execution_count": 18,
   "id": "994f4996",
   "metadata": {},
   "outputs": [
    {
     "data": {
      "text/plain": [
       "0.0"
      ]
     },
     "execution_count": 18,
     "metadata": {},
     "output_type": "execute_result"
    }
   ],
   "source": [
    "data.min()"
   ]
  },
  {
   "cell_type": "code",
   "execution_count": 19,
   "id": "a7e619af",
   "metadata": {},
   "outputs": [
    {
     "data": {
      "text/plain": [
       "16.0"
      ]
     },
     "execution_count": 19,
     "metadata": {},
     "output_type": "execute_result"
    }
   ],
   "source": [
    "data.max()"
   ]
  },
  {
   "cell_type": "code",
   "execution_count": null,
   "id": "f5687f20",
   "metadata": {},
   "outputs": [],
   "source": [
    "data=data/16"
   ]
  },
  {
   "cell_type": "code",
   "execution_count": 20,
   "id": "fd1b86b5",
   "metadata": {},
   "outputs": [
    {
     "data": {
      "text/plain": [
       "0.0"
      ]
     },
     "execution_count": 20,
     "metadata": {},
     "output_type": "execute_result"
    }
   ],
   "source": [
    "data.min()"
   ]
  },
  {
   "cell_type": "code",
   "execution_count": 21,
   "id": "f5d16ea5",
   "metadata": {},
   "outputs": [
    {
     "data": {
      "text/plain": [
       "16.0"
      ]
     },
     "execution_count": 21,
     "metadata": {},
     "output_type": "execute_result"
    }
   ],
   "source": [
    "data.max()"
   ]
  },
  {
   "cell_type": "code",
   "execution_count": 22,
   "id": "bd2cf7e1",
   "metadata": {},
   "outputs": [
    {
     "data": {
      "text/plain": [
       "array([ 0.,  0.,  5., 13.,  9.,  1.,  0.,  0.,  0.,  0., 13., 15., 10.,\n",
       "       15.,  5.,  0.,  0.,  3., 15.,  2.,  0., 11.,  8.,  0.,  0.,  4.,\n",
       "       12.,  0.,  0.,  8.,  8.,  0.,  0.,  5.,  8.,  0.,  0.,  9.,  8.,\n",
       "        0.,  0.,  4., 11.,  0.,  1., 12.,  7.,  0.,  0.,  2., 14.,  5.,\n",
       "       10., 12.,  0.,  0.,  0.,  0.,  6., 13., 10.,  0.,  0.,  0.])"
      ]
     },
     "execution_count": 22,
     "metadata": {},
     "output_type": "execute_result"
    }
   ],
   "source": [
    "data[0]"
   ]
  },
  {
   "cell_type": "markdown",
   "id": "f704a005",
   "metadata": {},
   "source": [
    "# Train Test Split Data"
   ]
  },
  {
   "cell_type": "code",
   "execution_count": 26,
   "id": "468979e3",
   "metadata": {},
   "outputs": [],
   "source": [
    "from sklearn.model_selection import train_test_split\n",
    "x_train,x_test,y_train,y_test =train_test_split(data,df.target,test_size=0.3)"
   ]
  },
  {
   "cell_type": "code",
   "execution_count": 28,
   "id": "3b8de2f2",
   "metadata": {},
   "outputs": [
    {
     "data": {
      "text/plain": [
       "((1257, 64), (540, 64), (1257,), (540,))"
      ]
     },
     "execution_count": 28,
     "metadata": {},
     "output_type": "execute_result"
    }
   ],
   "source": [
    "x_train.shape,x_test.shape,y_train.shape,y_test.shape"
   ]
  },
  {
   "cell_type": "markdown",
   "id": "475d29b1",
   "metadata": {},
   "source": [
    "# Random Forest model "
   ]
  },
  {
   "cell_type": "code",
   "execution_count": 31,
   "id": "5c6cc8a7",
   "metadata": {},
   "outputs": [
    {
     "data": {
      "text/plain": [
       "RandomForestClassifier()"
      ]
     },
     "execution_count": 31,
     "metadata": {},
     "output_type": "execute_result"
    }
   ],
   "source": [
    "from sklearn.ensemble import RandomForestClassifier\n",
    "rf=RandomForestClassifier()\n",
    "rf.fit(x_train,y_train)"
   ]
  },
  {
   "cell_type": "markdown",
   "id": "9b886215",
   "metadata": {},
   "source": [
    "# Predict Test Data"
   ]
  },
  {
   "cell_type": "code",
   "execution_count": 32,
   "id": "409aa99a",
   "metadata": {},
   "outputs": [
    {
     "data": {
      "text/plain": [
       "array([6, 6, 5, 4, 9, 6, 6, 4, 4, 3, 8, 8, 1, 0, 8, 5, 0, 1, 3, 5, 6, 8,\n",
       "       5, 2, 0, 5, 6, 0, 5, 6, 7, 2, 1, 1, 6, 7, 0, 5, 7, 5, 7, 5, 3, 0,\n",
       "       1, 8, 3, 4, 7, 5, 5, 2, 4, 2, 5, 4, 9, 4, 9, 7, 2, 6, 7, 7, 3, 6,\n",
       "       0, 5, 7, 7, 3, 4, 3, 8, 3, 5, 9, 3, 4, 9, 0, 0, 8, 9, 3, 3, 1, 3,\n",
       "       0, 7, 9, 9, 9, 2, 8, 2, 5, 9, 1, 4, 0, 5, 2, 7, 4, 8, 2, 2, 0, 2,\n",
       "       7, 6, 7, 0, 1, 0, 3, 1, 1, 5, 8, 2, 5, 1, 0, 3, 6, 1, 8, 2, 2, 9,\n",
       "       1, 5, 2, 3, 3, 4, 5, 6, 7, 8, 0, 0, 6, 7, 6, 3, 2, 4, 4, 0, 0, 2,\n",
       "       5, 6, 4, 7, 0, 0, 9, 7, 8, 2, 1, 5, 6, 8, 8, 7, 6, 9, 5, 6, 3, 8,\n",
       "       3, 1, 9, 1, 0, 9, 6, 1, 9, 8, 0, 0, 2, 4, 5, 8, 4, 9, 3, 3, 4, 5,\n",
       "       7, 2, 0, 5, 1, 5, 7, 3, 3, 2, 0, 9, 0, 4, 6, 5, 9, 3, 4, 4, 3, 9,\n",
       "       6, 1, 2, 8, 9, 1, 2, 1, 9, 3, 3, 3, 6, 6, 6, 6, 1, 8, 0, 9, 3, 5,\n",
       "       6, 7, 1, 5, 2, 5, 0, 6, 4, 7, 8, 5, 9, 8, 8, 4, 2, 2, 4, 0, 5, 5,\n",
       "       7, 4, 4, 8, 0, 7, 0, 5, 7, 9, 6, 9, 2, 5, 3, 0, 1, 0, 1, 9, 7, 1,\n",
       "       1, 5, 0, 3, 9, 9, 1, 3, 9, 9, 7, 4, 3, 6, 3, 4, 9, 1, 5, 3, 4, 7,\n",
       "       7, 0, 2, 5, 5, 3, 5, 2, 2, 1, 6, 4, 8, 8, 8, 0, 5, 0, 9, 4, 7, 2,\n",
       "       9, 0, 2, 6, 8, 9, 1, 3, 7, 1, 3, 7, 2, 6, 0, 5, 9, 5, 0, 5, 1, 8,\n",
       "       2, 7, 0, 9, 5, 0, 4, 8, 7, 5, 8, 6, 5, 1, 1, 8, 3, 1, 6, 7, 0, 6,\n",
       "       9, 2, 6, 8, 9, 6, 6, 3, 1, 5, 9, 0, 9, 0, 6, 2, 4, 0, 3, 8, 0, 9,\n",
       "       0, 4, 2, 8, 1, 6, 7, 3, 8, 0, 8, 6, 8, 2, 3, 6, 3, 7, 4, 5, 6, 1,\n",
       "       8, 7, 1, 2, 4, 9, 2, 2, 4, 8, 7, 2, 9, 3, 9, 2, 3, 5, 9, 7, 0, 3,\n",
       "       7, 5, 8, 4, 7, 4, 8, 6, 6, 6, 1, 6, 4, 4, 3, 4, 0, 7, 7, 7, 8, 4,\n",
       "       6, 5, 7, 5, 2, 0, 1, 1, 2, 3, 2, 1, 6, 1, 9, 8, 1, 8, 3, 5, 4, 2,\n",
       "       9, 9, 6, 2, 5, 9, 1, 0, 3, 6, 2, 6, 7, 4, 8, 1, 9, 7, 9, 5, 7, 9,\n",
       "       6, 3, 5, 0, 3, 6, 8, 7, 8, 2, 1, 0, 2, 1, 2, 5, 3, 5, 6, 8, 9, 4,\n",
       "       3, 7, 3, 2, 6, 7, 2, 4, 9, 8, 1, 8])"
      ]
     },
     "execution_count": 32,
     "metadata": {},
     "output_type": "execute_result"
    }
   ],
   "source": [
    "y_pred = rf.predict(x_test)\n",
    "y_pred"
   ]
  },
  {
   "cell_type": "markdown",
   "id": "db4749d9",
   "metadata": {},
   "source": [
    "# Model Accuracy\n"
   ]
  },
  {
   "cell_type": "code",
   "execution_count": 36,
   "id": "95864230",
   "metadata": {},
   "outputs": [],
   "source": [
    "from sklearn.metrics import confusion_matrix, classification_report\n"
   ]
  },
  {
   "cell_type": "code",
   "execution_count": 37,
   "id": "fa0801b4",
   "metadata": {},
   "outputs": [
    {
     "data": {
      "text/plain": [
       "array([[56,  0,  0,  0,  1,  0,  0,  0,  0,  0],\n",
       "       [ 0, 50,  0,  0,  0,  0,  0,  0,  0,  0],\n",
       "       [ 0,  0, 52,  0,  0,  0,  0,  0,  0,  0],\n",
       "       [ 0,  0,  0, 54,  0,  0,  0,  0,  0,  0],\n",
       "       [ 0,  0,  0,  0, 46,  0,  0,  0,  0,  0],\n",
       "       [ 0,  0,  0,  0,  0, 58,  1,  0,  0,  0],\n",
       "       [ 0,  0,  0,  0,  0,  0, 55,  0,  0,  0],\n",
       "       [ 0,  0,  0,  0,  0,  0,  0, 53,  0,  0],\n",
       "       [ 0,  1,  2,  0,  0,  1,  1,  0, 49,  0],\n",
       "       [ 0,  0,  0,  2,  0,  1,  0,  0,  2, 55]], dtype=int64)"
      ]
     },
     "execution_count": 37,
     "metadata": {},
     "output_type": "execute_result"
    }
   ],
   "source": [
    "confusion_matrix(y_test,y_pred)"
   ]
  },
  {
   "cell_type": "code",
   "execution_count": 40,
   "id": "83e15c06",
   "metadata": {},
   "outputs": [
    {
     "name": "stdout",
     "output_type": "stream",
     "text": [
      "              precision    recall  f1-score   support\n",
      "\n",
      "           0       1.00      0.98      0.99        57\n",
      "           1       0.98      1.00      0.99        50\n",
      "           2       0.96      1.00      0.98        52\n",
      "           3       0.96      1.00      0.98        54\n",
      "           4       0.98      1.00      0.99        46\n",
      "           5       0.97      0.98      0.97        59\n",
      "           6       0.96      1.00      0.98        55\n",
      "           7       1.00      1.00      1.00        53\n",
      "           8       0.96      0.91      0.93        54\n",
      "           9       1.00      0.92      0.96        60\n",
      "\n",
      "    accuracy                           0.98       540\n",
      "   macro avg       0.98      0.98      0.98       540\n",
      "weighted avg       0.98      0.98      0.98       540\n",
      "\n"
     ]
    }
   ],
   "source": [
    "print(classification_report(y_test,y_pred))"
   ]
  },
  {
   "cell_type": "code",
   "execution_count": null,
   "id": "81623778",
   "metadata": {},
   "outputs": [],
   "source": []
  },
  {
   "cell_type": "code",
   "execution_count": null,
   "id": "ac6ee0dd",
   "metadata": {},
   "outputs": [],
   "source": []
  },
  {
   "cell_type": "code",
   "execution_count": null,
   "id": "fa6433c0",
   "metadata": {},
   "outputs": [],
   "source": []
  },
  {
   "cell_type": "code",
   "execution_count": null,
   "id": "ec9592f9",
   "metadata": {},
   "outputs": [],
   "source": []
  },
  {
   "cell_type": "code",
   "execution_count": null,
   "id": "7660d7be",
   "metadata": {},
   "outputs": [],
   "source": []
  },
  {
   "cell_type": "code",
   "execution_count": null,
   "id": "3d4dd592",
   "metadata": {},
   "outputs": [],
   "source": []
  }
 ],
 "metadata": {
  "kernelspec": {
   "display_name": "Python 3 (ipykernel)",
   "language": "python",
   "name": "python3"
  },
  "language_info": {
   "codemirror_mode": {
    "name": "ipython",
    "version": 3
   },
   "file_extension": ".py",
   "mimetype": "text/x-python",
   "name": "python",
   "nbconvert_exporter": "python",
   "pygments_lexer": "ipython3",
   "version": "3.9.12"
  }
 },
 "nbformat": 4,
 "nbformat_minor": 5
}
